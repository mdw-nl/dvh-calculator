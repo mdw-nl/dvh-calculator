{
 "cells": [
  {
   "cell_type": "markdown",
   "metadata": {},
   "source": [
    "# Function to export DVHs"
   ]
  },
  {
   "cell_type": "code",
   "execution_count": null,
   "metadata": {},
   "outputs": [
    {
     "ename": "ModuleNotFoundError",
     "evalue": "No module named 'dicom'",
     "output_type": "error",
     "traceback": [
      "\u001b[0;31m---------------------------------------------------------------------------\u001b[0m",
      "\u001b[0;31mImportError\u001b[0m                               Traceback (most recent call last)",
      "File \u001b[0;32m~/source/mdw/protrait/dvh-calculator/venv/lib/python3.12/site-packages/dicompylercore/dicomparser.py:15\u001b[0m\n\u001b[1;32m     14\u001b[0m \u001b[38;5;28;01mtry\u001b[39;00m:\n\u001b[0;32m---> 15\u001b[0m     \u001b[38;5;28;01mfrom\u001b[39;00m\u001b[38;5;250m \u001b[39m\u001b[38;5;21;01mpydicom\u001b[39;00m\u001b[38;5;21;01m.\u001b[39;00m\u001b[38;5;21;01mdicomio\u001b[39;00m\u001b[38;5;250m \u001b[39m\u001b[38;5;28;01mimport\u001b[39;00m read_file\n\u001b[1;32m     16\u001b[0m     \u001b[38;5;28;01mfrom\u001b[39;00m\u001b[38;5;250m \u001b[39m\u001b[38;5;21;01mpydicom\u001b[39;00m\u001b[38;5;21;01m.\u001b[39;00m\u001b[38;5;21;01mdataset\u001b[39;00m\u001b[38;5;250m \u001b[39m\u001b[38;5;28;01mimport\u001b[39;00m Dataset, validate_file_meta\n",
      "\u001b[0;31mImportError\u001b[0m: cannot import name 'read_file' from 'pydicom.dicomio' (/home/hylobate/source/mdw/protrait/dvh-calculator/venv/lib/python3.12/site-packages/pydicom/dicomio.py)",
      "\nDuring handling of the above exception, another exception occurred:\n",
      "\u001b[0;31mModuleNotFoundError\u001b[0m                       Traceback (most recent call last)",
      "Cell \u001b[0;32mIn[1], line 1\u001b[0m\n\u001b[0;32m----> 1\u001b[0m \u001b[38;5;28;01mfrom\u001b[39;00m\u001b[38;5;250m \u001b[39m\u001b[38;5;21;01mdvhcalculator\u001b[39;00m\u001b[38;5;250m \u001b[39m\u001b[38;5;28;01mimport\u001b[39;00m DicomDatabase, DvhExtractor\n\u001b[1;32m      2\u001b[0m \u001b[38;5;28;01mimport\u001b[39;00m\u001b[38;5;250m \u001b[39m\u001b[38;5;21;01mos\u001b[39;00m\n\u001b[1;32m      4\u001b[0m dicomDb \u001b[38;5;241m=\u001b[39m DicomDatabase()\n",
      "File \u001b[0;32m~/source/mdw/protrait/dvh-calculator/dvhcalculator/DvhExtractor.py:5\u001b[0m\n\u001b[1;32m      2\u001b[0m \u001b[38;5;28;01mimport\u001b[39;00m\u001b[38;5;250m \u001b[39m\u001b[38;5;21;01mlogging\u001b[39;00m\n\u001b[1;32m      3\u001b[0m \u001b[38;5;28;01mimport\u001b[39;00m\u001b[38;5;250m \u001b[39m\u001b[38;5;21;01mos\u001b[39;00m\u001b[38;5;21;01m.\u001b[39;00m\u001b[38;5;21;01mpath\u001b[39;00m\n\u001b[0;32m----> 5\u001b[0m \u001b[38;5;28;01mfrom\u001b[39;00m\u001b[38;5;250m \u001b[39m\u001b[38;5;21;01mdicompylercore\u001b[39;00m\u001b[38;5;250m \u001b[39m\u001b[38;5;28;01mimport\u001b[39;00m dicomparser, dvhcalc\n\u001b[1;32m      7\u001b[0m \u001b[38;5;28;01mfrom\u001b[39;00m\u001b[38;5;250m \u001b[39m\u001b[38;5;21;01mcheck_jsonable\u001b[39;00m\u001b[38;5;250m \u001b[39m\u001b[38;5;28;01mimport\u001b[39;00m log_unjsonable\n\u001b[1;32m     10\u001b[0m \u001b[38;5;28;01mdef\u001b[39;00m\u001b[38;5;250m \u001b[39m\u001b[38;5;21mbatchProcessPlans\u001b[39m(dicomDb, folderPath):\n\u001b[1;32m     11\u001b[0m     \u001b[38;5;66;03m# loop over all patients\u001b[39;00m\n",
      "File \u001b[0;32m~/source/mdw/protrait/dvh-calculator/venv/lib/python3.12/site-packages/dicompylercore/dicomparser.py:19\u001b[0m\n\u001b[1;32m     17\u001b[0m     \u001b[38;5;28;01mfrom\u001b[39;00m\u001b[38;5;250m \u001b[39m\u001b[38;5;21;01mpydicom\u001b[39;00m\u001b[38;5;21;01m.\u001b[39;00m\u001b[38;5;21;01mpixel_data_handlers\u001b[39;00m\u001b[38;5;21;01m.\u001b[39;00m\u001b[38;5;21;01mutil\u001b[39;00m\u001b[38;5;250m \u001b[39m\u001b[38;5;28;01mimport\u001b[39;00m pixel_dtype\n\u001b[1;32m     18\u001b[0m \u001b[38;5;28;01mexcept\u001b[39;00m \u001b[38;5;167;01mImportError\u001b[39;00m:\n\u001b[0;32m---> 19\u001b[0m     \u001b[38;5;28;01mfrom\u001b[39;00m\u001b[38;5;250m \u001b[39m\u001b[38;5;21;01mdicom\u001b[39;00m\u001b[38;5;250m \u001b[39m\u001b[38;5;28;01mimport\u001b[39;00m read_file\n\u001b[1;32m     20\u001b[0m     \u001b[38;5;28;01mfrom\u001b[39;00m\u001b[38;5;250m \u001b[39m\u001b[38;5;21;01mdicom\u001b[39;00m\u001b[38;5;21;01m.\u001b[39;00m\u001b[38;5;21;01mdataset\u001b[39;00m\u001b[38;5;250m \u001b[39m\u001b[38;5;28;01mimport\u001b[39;00m Dataset\n\u001b[1;32m     21\u001b[0m \u001b[38;5;28;01mimport\u001b[39;00m\u001b[38;5;250m \u001b[39m\u001b[38;5;21;01mrandom\u001b[39;00m\n",
      "\u001b[0;31mModuleNotFoundError\u001b[0m: No module named 'dicom'"
     ]
    }
   ],
   "source": [
    "from dvhcalculator import DicomDatabase, DvhExtractor\n",
    "import os\n",
    "\n",
    "dicomDb = DicomDatabase()\n",
    "dicomDb.parseFolder('./resources/dicom')\n",
    "\n",
    "folderPath = \"tests/resources/dvh_json\"\n",
    "if not os.path.exists(folderPath):\n",
    "    os.mkdir(folderPath)\n",
    "\n",
    "DvhExtractor.batchProcessPlans(dicomDb, folderPath)"
   ]
  },
  {
   "cell_type": "markdown",
   "metadata": {},
   "source": [
    "# Function to read json DVHs"
   ]
  },
  {
   "cell_type": "code",
   "execution_count": null,
   "metadata": {},
   "outputs": [
    {
     "data": {
      "text/plain": [
       "<Figure size 640x480 with 1 Axes>"
      ]
     },
     "metadata": {},
     "output_type": "display_data"
    },
    {
     "name": "stdout",
     "output_type": "stream",
     "text": [
      "Dmin  = 0.01\n",
      "Dmean = 3.1680523337214312\n",
      "Dmax  = 42.44\n",
      "volume= 12918.593750000007\n",
      "color = [0, 255, 0]\n",
      "plannedDose = 40.0\n",
      "D2%   = 40.035\n",
      "V20Gy = 933.628230132935\n"
     ]
    }
   ],
   "source": [
    "from dvhcalculator import DvhCurve\n",
    "import json\n",
    "\n",
    "with open('tests/resources/dvh_json/1.2.246.352.71.5.2088656855.377051.20110920152006.json', 'r') as f:\n",
    "    dvhJson = json.load(f)\n",
    "\n",
    "structures = dvhJson['structures_dvh']\n",
    "dvhCurves = list()\n",
    "\n",
    "for structure in structures:\n",
    "    dvhCurves.append(DvhCurve(structure))\n",
    "\n",
    "for dvhCurve in dvhCurves:\n",
    "    dvhCurve.plot()\n",
    "    print('Dmin  = ' + str(dvhCurve.min))\n",
    "    print('Dmean = ' + str(dvhCurve.mean))\n",
    "    print('Dmax  = ' + str(dvhCurve.max))\n",
    "    print(\"volume= \" + str(dvhCurve.volume))\n",
    "    print(\"color = \" + str(dvhCurve.color))\n",
    "    print(\"plannedDose = \" + str(dvhCurve.plannedDose))\n",
    "    print('D2%   = ' + str(dvhCurve.dValueRelative(2)))\n",
    "    print('V20Gy = ' + str(dvhCurve.vValue(20)))"
   ]
  },
  {
   "cell_type": "code",
   "execution_count": null,
   "metadata": {},
   "outputs": [],
   "source": []
  }
 ],
 "metadata": {
  "kernelspec": {
   "display_name": "venv",
   "language": "python",
   "name": "python3"
  },
  "language_info": {
   "codemirror_mode": {
    "name": "ipython",
    "version": 3
   },
   "file_extension": ".py",
   "mimetype": "text/x-python",
   "name": "python",
   "nbconvert_exporter": "python",
   "pygments_lexer": "ipython3",
   "version": "3.12.9"
  }
 },
 "nbformat": 4,
 "nbformat_minor": 2
}
